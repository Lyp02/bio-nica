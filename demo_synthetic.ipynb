{
 "cells": [
  {
   "cell_type": "markdown",
   "metadata": {},
   "source": [
    "# Comparison of online NICA algorithms on synthetic sparse uniform sources"
   ]
  },
  {
   "cell_type": "markdown",
   "metadata": {},
   "source": [
    "### Imports"
   ]
  },
  {
   "cell_type": "code",
   "execution_count": 1,
   "metadata": {},
   "outputs": [],
   "source": [
    "import numpy as np\n",
    "import matplotlib.pyplot as plt\n",
    "\n",
    "from nica_algorithms import bio_nica, two_layer_nsm, nonnegative_pca\n",
    "from util import permutation_error, add_fill_lines"
   ]
  },
  {
   "cell_type": "markdown",
   "metadata": {},
   "source": [
    "### Load desired dataset"
   ]
  },
  {
   "cell_type": "code",
   "execution_count": 2,
   "metadata": {},
   "outputs": [],
   "source": [
    "dataset = '3-dim_synthetic'\n",
    "# dataset = '10-dim_synthetic'\n",
    "\n",
    "S = np.load(f'datasets/{dataset}/sources.npy')\n",
    "X = np.load(f'datasets/{dataset}/mixtures.npy')\n",
    "\n",
    "s_dim = S.shape[0]\n",
    "x_dim = X.shape[0]\n",
    "samples = S.shape[1]"
   ]
  },
  {
   "cell_type": "markdown",
   "metadata": {},
   "source": [
    "### Online algorithms"
   ]
  },
  {
   "cell_type": "code",
   "execution_count": 3,
   "metadata": {},
   "outputs": [],
   "source": [
    "trials = 10 # set the number of trials\n",
    "\n",
    "bionica_err = np.zeros((trials,samples))\n",
    "nsm_err = np.zeros((trials,samples))\n",
    "npca_err = np.zeros((trials,samples))"
   ]
  },
  {
   "cell_type": "code",
   "execution_count": 4,
   "metadata": {},
   "outputs": [
    {
     "name": "stdout",
     "output_type": "stream",
     "text": [
      "Trial 1:\n",
      "Running online algorithms...\n",
      "Computing errors...\n",
      "Final Bio-NICA permutation error: 0.0037004393359138564\n",
      "Final 2-layer NSM permutation error: 0.001182397410238755\n",
      "Final Nonnegative PCA permutation error: 0.0003457813882213784\n",
      "Trial 2:\n",
      "Running online algorithms...\n",
      "Computing errors...\n",
      "Final Bio-NICA permutation error: 0.004669116320277259\n",
      "Final 2-layer NSM permutation error: 0.004839647839235558\n",
      "Final Nonnegative PCA permutation error: 0.001529397470650544\n",
      "Trial 3:\n",
      "Running online algorithms...\n",
      "Computing errors...\n",
      "Final Bio-NICA permutation error: 0.004298578730507311\n",
      "Final 2-layer NSM permutation error: 0.0026422386152266516\n",
      "Final Nonnegative PCA permutation error: 0.00011810677987597646\n",
      "Trial 4:\n",
      "Running online algorithms...\n",
      "Computing errors...\n",
      "Final Bio-NICA permutation error: 0.005518225108198406\n",
      "Final 2-layer NSM permutation error: 0.0021303689384794314\n",
      "Final Nonnegative PCA permutation error: 0.00018729333858409918\n",
      "Trial 5:\n",
      "Running online algorithms...\n",
      "Computing errors...\n",
      "Final Bio-NICA permutation error: 0.003429673120152218\n",
      "Final 2-layer NSM permutation error: 0.004854571518292184\n",
      "Final Nonnegative PCA permutation error: 0.0013021176563638227\n",
      "Trial 6:\n",
      "Running online algorithms...\n",
      "Computing errors...\n",
      "Final Bio-NICA permutation error: 0.004070531652379807\n",
      "Final 2-layer NSM permutation error: 0.0018693284972966459\n",
      "Final Nonnegative PCA permutation error: 0.0011600173031469606\n",
      "Trial 7:\n",
      "Running online algorithms...\n",
      "Computing errors...\n",
      "Final Bio-NICA permutation error: 0.0039077751822517185\n",
      "Final 2-layer NSM permutation error: 0.006402291581470168\n",
      "Final Nonnegative PCA permutation error: 0.0003258045364096124\n",
      "Trial 8:\n",
      "Running online algorithms...\n",
      "Computing errors...\n",
      "Final Bio-NICA permutation error: 0.009473791402945006\n",
      "Final 2-layer NSM permutation error: 0.0013291337424652643\n",
      "Final Nonnegative PCA permutation error: 0.0004540787347429879\n",
      "Trial 9:\n",
      "Running online algorithms...\n",
      "Computing errors...\n",
      "Final Bio-NICA permutation error: 0.0039357966743608225\n",
      "Final 2-layer NSM permutation error: 0.00405596033115796\n",
      "Final Nonnegative PCA permutation error: 0.0012021834048022975\n",
      "Trial 10:\n",
      "Running online algorithms...\n",
      "Computing errors...\n",
      "Final Bio-NICA permutation error: 0.008412868441323799\n",
      "Final 2-layer NSM permutation error: 0.0009691619414368367\n",
      "Final Nonnegative PCA permutation error: 0.0016744597554742388\n"
     ]
    }
   ],
   "source": [
    "for i_trial in range(trials):\n",
    "    \n",
    "    print(f'Trial {i_trial+1}:')\n",
    "    \n",
    "    # Random permutation of the mixtures\n",
    "\n",
    "    idx = np.random.permutation(samples)\n",
    "    \n",
    "    # Noncentered whitening for Nonnegative PCA\n",
    "\n",
    "    sig, U = np.linalg.eig(np.cov(X))\n",
    "\n",
    "    X_white = U@np.diag(1./np.sqrt(sig))@U.T@X\n",
    "    \n",
    "    bionica = bio_nica(s_dim, x_dim, dataset)\n",
    "    nsm = two_layer_nsm(s_dim, x_dim, dataset, eta0=0.1, decay=0.0000001)\n",
    "    npca = nonnegative_pca(s_dim, x_dim, dataset)\n",
    "    \n",
    "    bionica_Y = np.zeros((s_dim,samples))\n",
    "    nsm_Y = np.zeros((s_dim,samples))\n",
    "    npca_Y = np.zeros((s_dim,samples))\n",
    "    \n",
    "    print('Running online algorithms...')\n",
    "    \n",
    "    for i_sample in range(samples):\n",
    "\n",
    "        x = X[:,idx[i_sample]]\n",
    "        x_white = X_white[:,idx[i_sample]]\n",
    "        \n",
    "        bionica_Y[:,i_sample] = bionica.fit_next(x)\n",
    "        nsm_Y[:,i_sample] = nsm.fit_next(x)\n",
    "        npca_Y[:,i_sample] = npca.fit_next(x_white)\n",
    "        \n",
    "        # if a neuron hasn't fired by the 100th iteration, we flip the feedforward weights:\n",
    "        \n",
    "        if i_sample==100:\n",
    "            for j in range(s_dim):\n",
    "                if bionica_Y[j,0:i_sample].sum()==0:\n",
    "                    bionica.flip_weights(j)\n",
    "                if nsm_Y[j,0:i_sample].sum()==0:\n",
    "                    nsm.flip_weights(j)\n",
    "                if npca_Y[j,0:i_sample].sum()==0:\n",
    "                    npca.flip_weights(j)\n",
    "        \n",
    "    print('Computing errors...')\n",
    "\n",
    "    bionica_err[i_trial,:] = permutation_error(S[:,idx],bionica_Y)\n",
    "    nsm_err[i_trial,:] = permutation_error(S[:,idx],nsm_Y)\n",
    "    npca_err[i_trial,:] = permutation_error(S[:,idx],npca_Y)\n",
    "\n",
    "    print(f'Final Bio-NICA permutation error: {bionica_err[i_trial,-1]}')\n",
    "    print(f'Final 2-layer NSM permutation error: {nsm_err[i_trial,-1]}')\n",
    "    print(f'Final Nonnegative PCA permutation error: {npca_err[i_trial,-1]}')"
   ]
  },
  {
   "cell_type": "markdown",
   "metadata": {},
   "source": [
    "### Comparison plots"
   ]
  },
  {
   "cell_type": "code",
   "execution_count": 5,
   "metadata": {},
   "outputs": [
    {
     "data": {
      "image/png": "[encoded data removed]",
      "text/plain": [
       "<Figure size 360x360 with 1 Axes>"
      ]
     },
     "metadata": {
      "needs_background": "light"
     },
     "output_type": "display_data"
    }
   ],
   "source": [
    "linewidth = 3\n",
    "\n",
    "t = list(range(samples))\n",
    "\n",
    "fig = plt.figure(figsize=(5,5))\n",
    "\n",
    "ax = plt.subplot(1, 1, 1)\n",
    "\n",
    "add_fill_lines(ax, t, bionica_err, plot_kwargs={'ls': '-', 'lw': linewidth, 'label': 'Bio-NICA'})\n",
    "add_fill_lines(ax, t, nsm_err, plot_kwargs={'ls': '-.', 'lw': linewidth, 'label': '2-layer NSM'})\n",
    "add_fill_lines(ax, t, npca_err, plot_kwargs={'ls': ':', 'lw': linewidth, 'label': 'Nonnegative PCA'})\n",
    "\n",
    "ax.loglog()\n",
    "\n",
    "plt.title(f\"{s_dim}-dimensional source data\")\n",
    "plt.grid()\n",
    "plt.legend(loc = 'lower left')\n",
    "plt.xlabel('Sample #')\n",
    "plt.ylabel('Permutation error')\n",
    "plt.xlim((10,samples))\n",
    "# plt.ylim(bottom=10**-4,)\n",
    "plt.ylim(10**-4,10**.8)\n",
    "\n",
    "plt.show()"
   ]
  }
 ],
 "metadata": {
  "kernelspec": {
   "display_name": "Python 3",
   "language": "python",
   "name": "python3"
  },
  "language_info": {
   "codemirror_mode": {
    "name": "ipython",
    "version": 3
   },
   "file_extension": ".py",
   "mimetype": "text/x-python",
   "name": "python",
   "nbconvert_exporter": "python",
   "pygments_lexer": "ipython3",
   "version": "3.7.6"
  }
 },
 "nbformat": 4,
 "nbformat_minor": 4
}
