{
 "cells": [
  {
   "cell_type": "markdown",
   "metadata": {},
   "source": [
    "# Setup"
   ]
  },
  {
   "cell_type": "code",
   "execution_count": 1,
   "metadata": {},
   "outputs": [],
   "source": [
    "import numpy as np\n",
    "import scipy.linalg\n",
    "from scipy.optimize import linear_sum_assignment\n",
    "import matplotlib.pyplot as plt\n",
    "import math\n",
    "import time\n",
    "import glob\n",
    "import os\n",
    "import imageio\n",
    "from quadprog import solve_qp"
   ]
  },
  {
   "cell_type": "code",
   "execution_count": 2,
   "metadata": {},
   "outputs": [],
   "source": [
    "inv = np.linalg.inv\n",
    "sqrtm = scipy.linalg.sqrtm\n",
    "norm = np.linalg.norm"
   ]
  },
  {
   "cell_type": "markdown",
   "metadata": {},
   "source": [
    "# Data generation"
   ]
  },
  {
   "cell_type": "markdown",
   "metadata": {},
   "source": [
    "### Synthetic (iid sparse random uniform random variables)"
   ]
  },
  {
   "cell_type": "code",
   "execution_count": 102,
   "metadata": {},
   "outputs": [],
   "source": [
    "# s_dim = 3 # source dimension\n",
    "# x_dim = 3 # mixed stimuli dimension, must satisfy x_dim >= s_dim\n",
    "\n",
    "# cwd = os.getcwd() # current working directory  \n",
    "\n",
    "# path = f'{cwd}/data/synthetic/{s_dim}-dim-source' \n",
    "\n",
    "# # create directory if path does not exist\n",
    "\n",
    "# if os.path.exists(path)==False:\n",
    "#     os.makedirs(path)\n",
    "\n",
    "# if os.path.exists(f'{path}/{x_dim}-dim-mixture')==False:\n",
    "#     os.makedirs(f'{path}/{x_dim}-dim-mixture')"
   ]
  },
  {
   "cell_type": "code",
   "execution_count": 103,
   "metadata": {},
   "outputs": [],
   "source": [
    "# samples = 10**5 # number of samples\n",
    "\n",
    "# U = np.random.uniform(0,math.sqrt(48/5),(s_dim,samples)) # independent non-negative uniform source RVs with variance 1\n",
    "# B = np.random.binomial(1, .5, (s_dim,samples)) # binomial RVs to sparsify the source\n",
    "# S = U*B # sources\n",
    "\n",
    "# filename = f'{path}/sources.npy'\n",
    "# np.save(filename, S)"
   ]
  },
  {
   "cell_type": "code",
   "execution_count": 104,
   "metadata": {},
   "outputs": [],
   "source": [
    "# A = np.random.randn(x_dim,s_dim) # random mixing matrix\n",
    "\n",
    "# np.save(f'{path}/{x_dim}-dim-mixture/mixing-matrix.npy', A)"
   ]
  },
  {
   "cell_type": "code",
   "execution_count": 105,
   "metadata": {},
   "outputs": [],
   "source": [
    "# S = np.load(f'{path}/sources.npy')\n",
    "# A = np.load(f'{path}/{x_dim}-dim-mixture/mixing-matrix.npy')\n",
    "\n",
    "# X = A@S\n",
    "\n",
    "# filename = f'{path}/{x_dim}-dim-mixture/mixtures.npy'\n",
    "# np.save(filename, X)"
   ]
  },
  {
   "cell_type": "markdown",
   "metadata": {},
   "source": [
    "### Images"
   ]
  },
  {
   "cell_type": "code",
   "execution_count": 106,
   "metadata": {},
   "outputs": [],
   "source": [
    "# s_dim = 3 # source dimension\n",
    "# x_dim = 6 # mixed stimuli dimension, must satisfy x_dim >= s_dim\n",
    "\n",
    "# cwd = os.getcwd() # current working directory  \n",
    "\n",
    "# path = f'{cwd}/data/images/{s_dim}-dim-source' \n",
    "\n",
    "# # create directory if path does not exist\n",
    "\n",
    "# if os.path.exists(path)==False:\n",
    "#     os.makedirs(path)\n",
    "\n",
    "# if os.path.exists(f'{path}/{x_dim}-dim-mixture')==False:\n",
    "#     os.makedirs(f'{path}/{x_dim}-dim-mixture')"
   ]
  },
  {
   "cell_type": "code",
   "execution_count": 107,
   "metadata": {},
   "outputs": [],
   "source": [
    "# 3 image patches are pre-specified\n",
    "\n",
    "# if s_dim==3:\n",
    "#     image_numbers = [5, 6, 11]; winsize=252\n",
    "#     posx = [220, 250, 200]\n",
    "#     posy = [1, 1, 1]\n",
    "\n",
    "# S = np.zeros((s_dim, winsize**2))\n",
    "\n",
    "# plt.figure(figsize=(15,10))\n",
    "\n",
    "# for i in range(s_dim):\n",
    "#     image = imageio.imread(f'data/images/{image_numbers[i]}.tiff')\n",
    "#     window = image[posy[i]:posy[i] + winsize, posx[i]:posx[i] + winsize]\n",
    "#     plt.subplot(s_dim, 1, i+1)\n",
    "#     plt.imshow(window, cmap=\"gray\")\n",
    "#     np.save(f'{path}/source_{i}.npy', window)\n",
    "#     window = window.reshape(1,-1)\n",
    "#     window = window - window.min(axis=1)\n",
    "#     window_var = np.cov(window)\n",
    "#     window = window*(window_var**-.5)\n",
    "#     S[i,:] = window\n",
    "\n",
    "# plt.show()\n",
    "    \n",
    "# S = np.array(S)\n",
    "\n",
    "# filename = f'{path}/sources.npy'\n",
    "# np.save(filename, S)"
   ]
  },
  {
   "cell_type": "code",
   "execution_count": 108,
   "metadata": {},
   "outputs": [],
   "source": [
    "# A = np.random.randn(x_dim,s_dim) # random mixing matrix\n",
    "\n",
    "# np.save(f'{path}/{x_dim}-dim-mixture/mixing-matrix.npy', A)"
   ]
  },
  {
   "cell_type": "code",
   "execution_count": 109,
   "metadata": {},
   "outputs": [],
   "source": [
    "# S = np.load(f'{path}/sources.npy')\n",
    "# A = np.load(f'{path}/{x_dim}-dim-mixture/mixing-matrix.npy')\n",
    "\n",
    "# X = A@S\n",
    "\n",
    "# plt.figure(figsize=(15,10))\n",
    "\n",
    "# for i in range(x_dim):\n",
    "#     mixed = X[i].reshape(252,252)\n",
    "#     plt.subplot(1, x_dim, i+1)\n",
    "#     plt.imshow(mixed, cmap=\"gray\")\n",
    "#     np.save(f'{path}/{x_dim}-dim-mixture/mixture_{i}.npy', X[i])\n",
    "\n",
    "# plt.show()\n",
    "\n",
    "# filename = f'{path}/{x_dim}-dim-mixture/mixtures.npy'\n",
    "# np.save(filename, X)"
   ]
  },
  {
   "cell_type": "markdown",
   "metadata": {},
   "source": [
    "# Load data"
   ]
  },
  {
   "cell_type": "code",
   "execution_count": 3,
   "metadata": {},
   "outputs": [],
   "source": [
    "dataset = 'synthetic'\n",
    "# dataset = 'images'"
   ]
  },
  {
   "cell_type": "code",
   "execution_count": 4,
   "metadata": {},
   "outputs": [],
   "source": [
    "s_dim = 3 # source dimension\n",
    "x_dim = 3 # mixed stimuli dimension, must satisfy x_dim >= s_dim\n",
    "y_dim = s_dim"
   ]
  },
  {
   "cell_type": "code",
   "execution_count": 5,
   "metadata": {},
   "outputs": [],
   "source": [
    "S = np.load(f'data/{dataset}/{s_dim}-dim-source/sources.npy')\n",
    "X = np.load(f'data/{dataset}/{s_dim}-dim-source/{x_dim}-dim-mixture/mixtures.npy')"
   ]
  },
  {
   "cell_type": "code",
   "execution_count": 6,
   "metadata": {},
   "outputs": [],
   "source": [
    "samples = S.shape[1]"
   ]
  },
  {
   "cell_type": "markdown",
   "metadata": {},
   "source": [
    "# Global parameters and permuted data"
   ]
  },
  {
   "cell_type": "code",
   "execution_count": 7,
   "metadata": {},
   "outputs": [],
   "source": [
    "trials = 1; epochs = 1; iters = epochs*samples; report_num = 1"
   ]
  },
  {
   "cell_type": "code",
   "execution_count": 8,
   "metadata": {},
   "outputs": [],
   "source": [
    "S_permuted = np.zeros((trials,s_dim,iters))\n",
    "X_permuted = np.zeros((trials,x_dim,iters))\n",
    "\n",
    "for n in range(trials):\n",
    "    for m in range(epochs):\n",
    "        idx = np.random.permutation(samples)\n",
    "        S_permuted[n,:,m*samples:(m+1)*samples] = S[:,idx[:]]\n",
    "        X_permuted[n,:,m*samples:(m+1)*samples] = X[:,idx[:]]"
   ]
  },
  {
   "cell_type": "markdown",
   "metadata": {},
   "source": [
    "# Bio-NICA"
   ]
  },
  {
   "cell_type": "markdown",
   "metadata": {},
   "source": [
    "### Parameters"
   ]
  },
  {
   "cell_type": "code",
   "execution_count": 9,
   "metadata": {},
   "outputs": [],
   "source": [
    "a = 100; b = .01; tau = .1 # optimal parameters for 3-dimensional synthetic data\n",
    "# a = 1000; b = .1; tau = .03 # optimal parameters for 10-dimensional synthetic data \n",
    "# a = 1000; b = .001; tau = .05 # optimal parameters for image data"
   ]
  },
  {
   "cell_type": "markdown",
   "metadata": {},
   "source": [
    "### Online algorithm"
   ]
  },
  {
   "cell_type": "code",
   "execution_count": 10,
   "metadata": {},
   "outputs": [
    {
     "name": "stdout",
     "output_type": "stream",
     "text": [
      "Trial 1:\n",
      "report number: 1\n"
     ]
    },
    {
     "data": {
      "image/png": "[encoded data removed]",
      "text/plain": [
       "<Figure size 360x360 with 2 Axes>"
      ]
     },
     "metadata": {
      "needs_background": "light"
     },
     "output_type": "display_data"
    }
   ],
   "source": [
    "Y = np.zeros((trials,y_dim,iters)) # matrix for keeping track of the outputs across trials\n",
    "error = np.zeros((trials,iters)) # matrix for keeping track of the error across trials\n",
    "\n",
    "for n in range(trials):\n",
    "\n",
    "    print('Trial {}:'.format(n+1))\n",
    "\n",
    "    # initialize a random matrix W whose rows have norm 1:\n",
    "\n",
    "    W = np.random.randn(y_dim,x_dim)\n",
    "    for i in range(y_dim):\n",
    "        W[i,:] = W[i,:]/norm(W[i,:])\n",
    "\n",
    "    # initialize M to be the identity matrix:\n",
    "\n",
    "    M = np.eye(y_dim)\n",
    "\n",
    "    # inialize running means:\n",
    "\n",
    "    x_bar = 0\n",
    "    c_bar = 0\n",
    "\n",
    "    start_time = time.time()\n",
    "\n",
    "    for t in range(iters):\n",
    "\n",
    "        # compute step size:\n",
    "\n",
    "        eta_t = 1/(a+b*t)\n",
    "\n",
    "        x = X_permuted[n,:,t]\n",
    "        x_bar = x_bar + (x - x_bar)/(t+1) # running average of x \n",
    "        x_hat = x - x_bar # centered x\n",
    "\n",
    "        c = W@x\n",
    "        c_bar = c_bar + (c - c_bar)/100 # running weighted average of c\n",
    "        c_hat = c - c_bar # centered c\n",
    "\n",
    "        # neural dynamics\n",
    "\n",
    "        y = solve_qp(M, c, np.eye(y_dim), np.zeros(y_dim))[0]; Y[n,:,t] = y\n",
    "\n",
    "        # synaptic updates\n",
    "\n",
    "        W = W + 2*eta_t*(np.outer(y,x) - np.outer(c_hat,x_hat))\n",
    "        M = M + (eta_t/tau)*(np.outer(y,y) - M)\n",
    "\n",
    "        # the matrix M can sometimes exhibit instaiblities due to noise, which can be addressed with the following ad hoc fix (the alternative is to reduce the learning rate):\n",
    "\n",
    "        if scipy.linalg.det(M)<.001:\n",
    "            M = M + .1*np.eye(y_dim)\n",
    "#             print('M close to degenerate')\n",
    "\n",
    "        # check to see if any neurons (i.e. components of y) are not firing after the first 10 samples\n",
    "\n",
    "        if t<=100:\n",
    "            for j in range(y_dim):\n",
    "                if sum(Y[n,0:t,j])==0:\n",
    "                    W[j,:] = -W[j,:]\n",
    "#                     print('flip',j)\n",
    "\n",
    "        # output\n",
    "\n",
    "        if (t+1)%(iters/report_num)==0:\n",
    "\n",
    "            print('report number:', np.int((t+1)*report_num/iters))\n",
    "        \n",
    "            # correlations between the outputs and sources; if the algorithm is performing well, this matrix should be close to a permutation matrix\n",
    "\n",
    "            corr = np.corrcoef(S_permuted[n,:,:t+1],Y[n,:,:t+1])[:s_dim,s_dim:]\n",
    "\n",
    "            fig=plt.figure(figsize=(5,5))\n",
    "\n",
    "            plt.imshow(corr)\n",
    "            plt.title('Source-output correlation matrix')\n",
    "            plt.colorbar()\n",
    "            plt.show()\n",
    "\n",
    "    # compute the optimal permutation matrix\n",
    "\n",
    "    perm = np.round(np.corrcoef(S_permuted[n,:,:],Y[n,:,:]))[:s_dim,s_dim:] # if the algorithm performs well, rounding the correlation matrix yields the optimal permutation matrix\n",
    "\n",
    "    # compute error\n",
    "\n",
    "    for t in range(1,iters):\n",
    "\n",
    "        error_t = (norm(S_permuted[n,:,t] - perm@Y[n,:,t])**2)/s_dim\n",
    "        error[n,t] = error[n,t-1] + (error_t - error[n,t-1])/t\n",
    "\n",
    "# save data\n",
    "\n",
    "cwd = os.getcwd() # current working directory  \n",
    "\n",
    "path = f'{cwd}/error/{dataset}/{s_dim}-dim-source/{x_dim}-dim-mixture/bio-nica/a={a}/b={b}/tau={tau}'\n",
    "\n",
    "if os.path.exists(path)==False:\n",
    "    os.makedirs(path)\n",
    "\n",
    "np.save(f'{path}/error.npy', error)"
   ]
  },
  {
   "cell_type": "markdown",
   "metadata": {},
   "source": [
    "# 2-layer NSM"
   ]
  },
  {
   "cell_type": "markdown",
   "metadata": {},
   "source": [
    "### Parameters"
   ]
  },
  {
   "cell_type": "code",
   "execution_count": 11,
   "metadata": {},
   "outputs": [],
   "source": [
    "a = 10; b = .8 # optimal parameters for 3-dimensional synthetic data\n",
    "# a = 10; b = .9 # optimal parameters for 10-dimensional synthetic data "
   ]
  },
  {
   "cell_type": "code",
   "execution_count": 12,
   "metadata": {},
   "outputs": [],
   "source": [
    "max_steps = 100"
   ]
  },
  {
   "cell_type": "markdown",
   "metadata": {},
   "source": [
    "### Online algorithm"
   ]
  },
  {
   "cell_type": "code",
   "execution_count": 13,
   "metadata": {},
   "outputs": [
    {
     "name": "stdout",
     "output_type": "stream",
     "text": [
      "Trial 1:\n",
      "report number: 1\n"
     ]
    },
    {
     "data": {
      "image/png": "[encoded data removed]",
      "text/plain": [
       "<Figure size 360x360 with 2 Axes>"
      ]
     },
     "metadata": {
      "needs_background": "light"
     },
     "output_type": "display_data"
    }
   ],
   "source": [
    "Y = np.zeros((trials,y_dim,iters)) # matrix for keeping track of the outputs across trials\n",
    "error = np.zeros((trials,iters)) # matrix for keeping track of the error across trials\n",
    "\n",
    "h_dim = y_dim\n",
    "\n",
    "for n in range(trials):\n",
    "\n",
    "    print('Trial {}:'.format(n+1))\n",
    "\n",
    "    Whx = np.random.randn(h_dim,x_dim)\n",
    "    Wgh = np.eye(h_dim)\n",
    "    Wyh = np.random.randn(y_dim,h_dim)\n",
    "    Wyy = np.zeros((y_dim,y_dim))\n",
    "    D = np.zeros(y_dim)\n",
    "\n",
    "    for i in range(h_dim):\n",
    "        Whx[i,:] = Whx[i,:]/norm(Whx[i,:])\n",
    "        Wyh[i,:] = Wyh[i,:]/norm(Wyh[i,:])\n",
    "\n",
    "    x_bar = 0\n",
    "    h_bar = 0\n",
    "    g_bar = 0\n",
    "\n",
    "    start_time = time.time()\n",
    "\n",
    "    for t in range(iters):\n",
    "\n",
    "        eta_t = 1/(100+t)\n",
    "\n",
    "        x = X_permuted[n,:,t]\n",
    "        x_bar = x_bar + (x - x_bar)/(t+1)\n",
    "        x_hat = x - x_bar\n",
    "        \n",
    "        # whitening layer\n",
    "\n",
    "        # neural dynamics\n",
    "\n",
    "        h = inv(Wgh.T@Wgh)@Whx@x\n",
    "        h_bar = h_bar + (h - h_bar)/(t+1)\n",
    "        h_hat = h - h_bar\n",
    "\n",
    "        g = Wgh@h\n",
    "        g_bar = g_bar + (g - g_bar)/(t+1)\n",
    "        g_hat = g - g_bar\n",
    "\n",
    "        # synaptic updates\n",
    "\n",
    "        Whx = Whx + eta_t*(np.outer(h_hat,x_hat) - Whx)\n",
    "        Wgh = Wgh + eta_t*(np.outer(g_hat,h_hat) - Wgh)\n",
    "\n",
    "        # rotation layer\n",
    "        \n",
    "        # neural dynamics\n",
    "        \n",
    "        c = Wyh@h\n",
    "        \n",
    "        err = 1; steps = 0; y = np.zeros(y_dim)\n",
    "        \n",
    "        while steps<max_steps:\n",
    "            \n",
    "            y_old = y\n",
    "                        \n",
    "            for j in range(y_dim):\n",
    "                y[j] = max(c[j] - Wyy[j,:]@y_old,0.0)\n",
    "                \n",
    "            err = norm(y-y_old)/norm(y_old+0.001)\n",
    "                \n",
    "            steps = steps + 1\n",
    "            \n",
    "        Y[n,:,t] = y\n",
    "\n",
    "        # synaptic updates\n",
    "        \n",
    "        y_sq = y**2\n",
    "        \n",
    "        D = np.maximum(a,b*D + y_sq)\n",
    "\n",
    "        Wyh = Wyh + inv(np.diag(D))@(np.outer(y,h) - np.diag(y_sq)@Wyh)\n",
    "        Wyy = Wyy + inv(np.diag(D))@(np.outer(y,y) - np.diag(y_sq)@Wyy)\n",
    "        \n",
    "        for j in range(y_dim):\n",
    "            Wyy[j,j] = 0\n",
    "\n",
    "        # check to see if any neurons (i.e. components of y) are not firing\n",
    "\n",
    "        if t<=100:        \n",
    "            for j in range(y_dim):\n",
    "                if sum(Y[n,0:t,j])==0:\n",
    "                    Wyh[j,:] = -Wyh[j,:]\n",
    "\n",
    "        # output\n",
    "\n",
    "        if (t+1)%(iters/report_num)==0:\n",
    "\n",
    "            print('report number:', np.int((t+1)*report_num/iters))\n",
    "        \n",
    "            # correlations between the outputs and sources; if the algorithm is performing well, this matrix should be close to a permutation matrix\n",
    "\n",
    "            corr = np.corrcoef(S_permuted[n,:,:t+1],Y[n,:,:t+1])[:s_dim,s_dim:]\n",
    "\n",
    "            fig=plt.figure(figsize=(5,5))\n",
    "\n",
    "            plt.imshow(corr)\n",
    "            plt.title('Source-output correlation matrix')\n",
    "            plt.colorbar()\n",
    "            plt.show()\n",
    "\n",
    "    # compute the optimal permutation matrix\n",
    "\n",
    "    perm = np.round(np.corrcoef(S_permuted[n,:,:],Y[n,:,:]))[:s_dim,s_dim:] # if the algorithm performs well, rounding the correlation matrix yields the optimal permutation matrix\n",
    "\n",
    "    # compute error\n",
    "\n",
    "    for t in range(1,iters):\n",
    "\n",
    "        error_t = (norm(S_permuted[n,:,t] - perm@Y[n,:,t])**2)/s_dim\n",
    "        error[n,t] = error[n,t-1] + (error_t - error[n,t-1])/t\n",
    "\n",
    "# save data\n",
    "\n",
    "cwd = os.getcwd() # current working directory  \n",
    "\n",
    "path = f'{cwd}/error/{dataset}/{s_dim}-dim-source/{x_dim}-dim-mixture/2nsm/a={a}/b={b}'\n",
    "\n",
    "if os.path.exists(path)==False:\n",
    "    os.makedirs(path)\n",
    "\n",
    "np.save(f'{path}/error.npy', error)"
   ]
  },
  {
   "cell_type": "markdown",
   "metadata": {},
   "source": [
    "# Nonnegative PCA"
   ]
  },
  {
   "cell_type": "markdown",
   "metadata": {},
   "source": [
    "### Parameters"
   ]
  },
  {
   "cell_type": "code",
   "execution_count": 14,
   "metadata": {},
   "outputs": [],
   "source": [
    "a = 1000; b = .01 # optimal parameters for 3-dimensional synthetic data\n",
    "# a = 1000; b = .01 # optimal parameters for 10-dimensional synthetic data \n",
    "# a = 1000; b = .01 # optimal parameters for image data"
   ]
  },
  {
   "cell_type": "markdown",
   "metadata": {},
   "source": [
    "### Online algorithm"
   ]
  },
  {
   "cell_type": "code",
   "execution_count": 15,
   "metadata": {},
   "outputs": [
    {
     "name": "stdout",
     "output_type": "stream",
     "text": [
      "Trial 1:\n",
      "flip 0\n",
      "flip 1\n",
      "flip 2\n",
      "flip 0\n",
      "flip 1\n",
      "flip 2\n",
      "flip 0\n",
      "flip 1\n",
      "flip 2\n",
      "flip 0\n",
      "flip 1\n",
      "flip 2\n",
      "flip 0\n",
      "flip 1\n",
      "flip 0\n",
      "flip 1\n",
      "flip 0\n",
      "flip 1\n",
      "flip 0\n",
      "flip 1\n",
      "report number: 1\n"
     ]
    },
    {
     "data": {
      "image/png": "[encoded data removed]",
      "text/plain": [
       "<Figure size 360x360 with 2 Axes>"
      ]
     },
     "metadata": {
      "needs_background": "light"
     },
     "output_type": "display_data"
    }
   ],
   "source": [
    "Y = np.zeros((trials,y_dim,iters)) # matrix for keeping track of the outputs across trials\n",
    "error = np.zeros((trials,iters)) # matrix for keeping track of the error across trials\n",
    "\n",
    "for n in range(trials):\n",
    "\n",
    "    print('Trial {}:'.format(n+1))\n",
    "    \n",
    "    # noncentered whitening\n",
    "\n",
    "    Cxx = np.cov(X_permuted[n,:,:])\n",
    "    X_whitened = inv(sqrtm(Cxx))@X_permuted[n,:,:]\n",
    "    \n",
    "    # initialize weights\n",
    "\n",
    "    W = np.random.randn(y_dim,x_dim)\n",
    "\n",
    "    for i in range(y_dim):\n",
    "        W[i,:] = W[i,:]/norm(W[i,:])\n",
    "\n",
    "    start_time = time.time()\n",
    "\n",
    "    for t in range(iters):\n",
    "\n",
    "        eta_t = 1/(a+b*t)\n",
    "\n",
    "        # input\n",
    "\n",
    "        h = X_whitened[:,t]\n",
    "\n",
    "        y = np.maximum(W@h,0); Y[n,:,t] = y\n",
    "\n",
    "        # synaptic updates\n",
    "\n",
    "        W = W + eta_t*(np.outer(y,h)-np.outer(y,y)@W)\n",
    "\n",
    "        # check to see if any neurons (i.e. components of y) are not firing\n",
    "\n",
    "        if t<=100:        \n",
    "            for j in range(y_dim):\n",
    "                if sum(Y[n,j,0:t])==0:\n",
    "                    W[j,:] = -W[j,:]\n",
    "                    print('flip',j)\n",
    "\n",
    "        # output\n",
    "\n",
    "        if (t+1)%(iters/report_num)==0:\n",
    "\n",
    "            print('report number:', np.int((t+1)*report_num/iters))\n",
    "        \n",
    "            # correlations between the outputs and sources; if the algorithm is performing well, this matrix should be close to a permutation matrix\n",
    "\n",
    "            corr = np.corrcoef(S_permuted[n,:,:t+1],Y[n,:,:t+1])[:s_dim,s_dim:]\n",
    "\n",
    "            fig=plt.figure(figsize=(5,5))\n",
    "\n",
    "            plt.imshow(corr)\n",
    "            plt.title('Source-output correlation matrix')\n",
    "            plt.colorbar()\n",
    "            plt.show()\n",
    "\n",
    "    # compute the optimal permutation matrix\n",
    "\n",
    "    perm = np.round(np.corrcoef(S_permuted[n,:,:],Y[n,:,:]))[:s_dim,s_dim:] # if the algorithm performs well, rounding the correlation matrix yields the optimal permutation matrix\n",
    "\n",
    "    # compute error\n",
    "\n",
    "    for t in range(1,iters):\n",
    "\n",
    "        error_t = (norm(S_permuted[n,:,t] - perm@Y[n,:,t])**2)/s_dim\n",
    "        error[n,t] = error[n,t-1] + (error_t - error[n,t-1])/t\n",
    "\n",
    "# save data\n",
    "\n",
    "cwd = os.getcwd() # current working directory  \n",
    "\n",
    "path = f'{cwd}/error/{dataset}/{s_dim}-dim-source/{x_dim}-dim-mixture/npca/a={a}/b={b}'\n",
    "\n",
    "if os.path.exists(path)==False:\n",
    "    os.makedirs(path)\n",
    "\n",
    "np.save(f'{path}/error.npy', error)"
   ]
  },
  {
   "cell_type": "markdown",
   "metadata": {},
   "source": [
    "# Comparisons"
   ]
  },
  {
   "cell_type": "markdown",
   "metadata": {},
   "source": [
    "### Function for plotting confidence intervals"
   ]
  },
  {
   "cell_type": "code",
   "execution_count": 16,
   "metadata": {},
   "outputs": [],
   "source": [
    "def add_ci_line(axis, t, data, ci_pct=68, plot_kwargs=None, ci_kwargs=None):\n",
    "    mu = data.mean(axis=0)\n",
    "    delta = (100 - ci_pct) / 2\n",
    "    ci_lo = np.percentile(data, delta, axis=0)\n",
    "    ci_hi = np.percentile(data, 100 - delta, axis=0)\n",
    "    assert mu.shape == ci_lo.shape == ci_hi.shape\n",
    "    plot_kwargs = plot_kwargs or {}\n",
    "    ci_kwargs = ci_kwargs or {}\n",
    "    plot = axis.plot(t, mu, **plot_kwargs)\n",
    "    fill = axis.fill_between(t, ci_lo, ci_hi, alpha=.05, **ci_kwargs)\n",
    "    return plot, fill"
   ]
  },
  {
   "cell_type": "markdown",
   "metadata": {},
   "source": [
    "### Parameters"
   ]
  },
  {
   "cell_type": "code",
   "execution_count": 17,
   "metadata": {},
   "outputs": [],
   "source": [
    "dataset = 'synthetic'\n",
    "# dataset = 'images'"
   ]
  },
  {
   "cell_type": "markdown",
   "metadata": {},
   "source": [
    "### Load data"
   ]
  },
  {
   "cell_type": "code",
   "execution_count": 29,
   "metadata": {},
   "outputs": [],
   "source": [
    "# s_dim = 3\n",
    "# x_dim = 3\n",
    "\n",
    "# bio_nica_error = np.load(f'error/{dataset}/{s_dim}-dim-source/{x_dim}-dim-mixture/bio-nica/a=100/b=0.1/tau=0.1/error.npy')\n",
    "# nsm_error = np.load(f'error/{dataset}/{s_dim}-dim-source/{x_dim}-dim-mixture/2nsm/a=10/b=0.8/error.npy')\n",
    "# npca_error = np.load(f'error/{dataset}/{s_dim}-dim-source/{x_dim}-dim-mixture/npca/a=1000/b=0.01/error.npy')"
   ]
  },
  {
   "cell_type": "code",
   "execution_count": 124,
   "metadata": {},
   "outputs": [],
   "source": [
    "# s_dim = 10\n",
    "# x_dim = 10\n",
    "\n",
    "# bio_nica_error = np.load(f'error/{dataset}/{s_dim}-dim-source/{x_dim}-dim-mixture/bio-nica/a=1000/b=0.1/tau=0.05/error.npy')\n",
    "# nsm_error = np.load(f'error/{dataset}/{s_dim}-dim-source/{x_dim}-dim-mixture/2nsm/a=10/b=0.8/error.npy')\n",
    "# npca_error = np.load(f'error/{dataset}/{s_dim}-dim-source/{x_dim}-dim-mixture/npca/a=1000/b=0.01/error.npy')"
   ]
  },
  {
   "cell_type": "markdown",
   "metadata": {},
   "source": [
    "### Sample efficiency"
   ]
  },
  {
   "cell_type": "code",
   "execution_count": 18,
   "metadata": {},
   "outputs": [
    {
     "ename": "NameError",
     "evalue": "name 'bio_nica_error' is not defined",
     "output_type": "error",
     "traceback": [
      "\u001b[0;31m---------------------------------------------------------------------------\u001b[0m",
      "\u001b[0;31mNameError\u001b[0m                                 Traceback (most recent call last)",
      "\u001b[0;32m<ipython-input-18-30fedfce8fc5>\u001b[0m in \u001b[0;36m<module>\u001b[0;34m\u001b[0m\n\u001b[1;32m     10\u001b[0m     \u001b[0max\u001b[0m\u001b[0;34m,\u001b[0m\u001b[0;34m\u001b[0m\u001b[0;34m\u001b[0m\u001b[0m\n\u001b[1;32m     11\u001b[0m     \u001b[0mt\u001b[0m\u001b[0;34m,\u001b[0m\u001b[0;34m\u001b[0m\u001b[0;34m\u001b[0m\u001b[0m\n\u001b[0;32m---> 12\u001b[0;31m     \u001b[0mbio_nica_error\u001b[0m\u001b[0;34m,\u001b[0m\u001b[0;34m\u001b[0m\u001b[0;34m\u001b[0m\u001b[0m\n\u001b[0m\u001b[1;32m     13\u001b[0m     \u001b[0mci_pct\u001b[0m \u001b[0;34m=\u001b[0m \u001b[0mci\u001b[0m\u001b[0;34m,\u001b[0m\u001b[0;34m\u001b[0m\u001b[0;34m\u001b[0m\u001b[0m\n\u001b[1;32m     14\u001b[0m     \u001b[0mplot_kwargs\u001b[0m\u001b[0;34m=\u001b[0m\u001b[0;34m{\u001b[0m\u001b[0;34m'ls'\u001b[0m\u001b[0;34m:\u001b[0m \u001b[0;34m'-'\u001b[0m\u001b[0;34m,\u001b[0m \u001b[0;34m'lw'\u001b[0m\u001b[0;34m:\u001b[0m \u001b[0mlinewidth\u001b[0m\u001b[0;34m,\u001b[0m \u001b[0;34m'label'\u001b[0m\u001b[0;34m:\u001b[0m \u001b[0;34m'Bio-NICA'\u001b[0m\u001b[0;34m}\u001b[0m\u001b[0;34m,\u001b[0m\u001b[0;34m\u001b[0m\u001b[0;34m\u001b[0m\u001b[0m\n",
      "\u001b[0;31mNameError\u001b[0m: name 'bio_nica_error' is not defined"
     ]
    },
    {
     "data": {
      "image/png": "[encoded data removed]",
      "text/plain": [
       "<Figure size 576x576 with 1 Axes>"
      ]
     },
     "metadata": {
      "needs_background": "light"
     },
     "output_type": "display_data"
    }
   ],
   "source": [
    "fig = plt.figure(figsize=(8,8))\n",
    "\n",
    "linewidth = 3\n",
    "\n",
    "t = list(range(iters))\n",
    "ci = 90\n",
    "\n",
    "ax = plt.subplot(1, 1, 1)\n",
    "add_ci_line(\n",
    "    ax,\n",
    "    t,\n",
    "    bio_nica_error,\n",
    "    ci_pct = ci,\n",
    "    plot_kwargs={'ls': '-', 'lw': linewidth, 'label': 'Bio-NICA'},\n",
    ")\n",
    "add_ci_line(\n",
    "    ax,\n",
    "    t,\n",
    "    nsm_error[0:3,:],\n",
    "    ci_pct = ci,\n",
    "    plot_kwargs={\"ls\": \"--\", \"lw\": linewidth, \"label\": \"2-layer NSM\"},\n",
    ")\n",
    "add_ci_line(\n",
    "    ax,\n",
    "    t,\n",
    "    npca_error,\n",
    "    ci_pct = ci,\n",
    "    plot_kwargs={\"ls\": \":\", \"lw\": linewidth, \"label\": \"Nonnegative PCA (pre-whitened inputs)\"},\n",
    ")\n",
    "ax.loglog()\n",
    "\n",
    "plt.title(f'{s_dim}-dimensional {dataset} source data')\n",
    "\n",
    "plt.xlabel('Sample #')\n",
    "plt.ylabel('Error')\n",
    "plt.xlim((10,iters))\n",
    "plt.grid()\n",
    "plt.legend(loc = 'lower left')\n",
    "\n",
    "plt.savefig(f'plots/{dataset}_{s_dim}-dim_comparision.png', dpi=300, transparent='true', bbox_inches='tight')"
   ]
  },
  {
   "cell_type": "code",
   "execution_count": null,
   "metadata": {},
   "outputs": [],
   "source": []
  }
 ],
 "metadata": {
  "kernelspec": {
   "display_name": "Python 3",
   "language": "python",
   "name": "python3"
  },
  "language_info": {
   "codemirror_mode": {
    "name": "ipython",
    "version": 3
   },
   "file_extension": ".py",
   "mimetype": "text/x-python",
   "name": "python",
   "nbconvert_exporter": "python",
   "pygments_lexer": "ipython3",
   "version": "3.7.6"
  }
 },
 "nbformat": 4,
 "nbformat_minor": 4
}
