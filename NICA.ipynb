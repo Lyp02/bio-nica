{
 "cells": [
  {
   "cell_type": "markdown",
   "metadata": {},
   "source": [
    "# Comparison of NICA algorithms"
   ]
  },
  {
   "cell_type": "markdown",
   "metadata": {},
   "source": [
    "### Setup"
   ]
  },
  {
   "cell_type": "code",
   "execution_count": 1,
   "metadata": {},
   "outputs": [],
   "source": [
    "import numpy as np\n",
    "import scipy.linalg\n",
    "from scipy.optimize import linear_sum_assignment\n",
    "import matplotlib.pyplot as plt\n",
    "import math\n",
    "import time\n",
    "import glob\n",
    "import os.path\n",
    "import imageio\n",
    "from quadprog import solve_qp"
   ]
  },
  {
   "cell_type": "code",
   "execution_count": 2,
   "metadata": {},
   "outputs": [],
   "source": [
    "inv = np.linalg.inv\n",
    "sqrtm = scipy.linalg.sqrtm\n",
    "norm = np.linalg.norm"
   ]
  },
  {
   "cell_type": "markdown",
   "metadata": {},
   "source": [
    "### Parameters"
   ]
  },
  {
   "cell_type": "code",
   "execution_count": 3,
   "metadata": {},
   "outputs": [],
   "source": [
    "s_dim = 3 # source dimension\n",
    "x_dim = 3 # mixed stimuli dimension, must satisfy x_dim >= s_dim\n",
    "y_dim = s_dim # output dimension is the same as the source dimension\n",
    "image_data = 'false'"
   ]
  },
  {
   "cell_type": "code",
   "execution_count": 4,
   "metadata": {},
   "outputs": [],
   "source": [
    "trials = 1; epochs = 1"
   ]
  },
  {
   "cell_type": "markdown",
   "metadata": {},
   "source": [
    "# Data generation"
   ]
  },
  {
   "cell_type": "markdown",
   "metadata": {},
   "source": [
    "### Random mixing matrix"
   ]
  },
  {
   "cell_type": "code",
   "execution_count": 5,
   "metadata": {},
   "outputs": [],
   "source": [
    "# A = np.random.randn(x_dim,s_dim) # random mixing matrix\n",
    "\n",
    "# np.save(f\"{s_dim}-dim-source/mixing-matrix.npy\", A)"
   ]
  },
  {
   "cell_type": "markdown",
   "metadata": {},
   "source": [
    "### Synthetic data"
   ]
  },
  {
   "cell_type": "code",
   "execution_count": 6,
   "metadata": {},
   "outputs": [],
   "source": [
    "# samples = 10**5 # number of samples\n",
    "\n",
    "# U = np.random.uniform(0,math.sqrt(48/5),(s_dim,samples)) # independent non-negative uniform source RVs with variance 1\n",
    "# B = np.random.binomial(1, .5, (s_dim,samples)) # binomial RVs to sparsify the source\n",
    "# S = U*B # sources\n",
    "# X = A@S # mixtures\n",
    "\n",
    "# filename = f\"{s_dim}-dim-source/sources.npy\"\n",
    "# np.save(filename, S)\n",
    "# filename = f\"{s_dim}-dim-source/mixtures.npy\"\n",
    "# np.save(filename, X)"
   ]
  },
  {
   "cell_type": "markdown",
   "metadata": {},
   "source": [
    "### Image data"
   ]
  },
  {
   "cell_type": "markdown",
   "metadata": {},
   "source": [
    "Sources"
   ]
  },
  {
   "cell_type": "code",
   "execution_count": 7,
   "metadata": {},
   "outputs": [],
   "source": [
    "# image_numbers = [5, 6, 11]; winsize=252 # 3 image patches are pre-specified\n",
    "# posx = [220, 250, 200]\n",
    "# posy = [1, 1, 1]\n",
    "\n",
    "# S = np.zeros((s_dim, winsize**2))\n",
    "\n",
    "# plt.figure(figsize=(15,10))\n",
    "\n",
    "# for i in range(s_dim):\n",
    "#     image = imageio.imread(f\"data/images/{image_numbers[i]}.tiff\")\n",
    "#     window = image[posy[i]:posy[i] + winsize, posx[i]:posx[i] + winsize]\n",
    "#     plt.subplot(s_dim, 1, i+1)\n",
    "#     plt.imshow(window, cmap=\"gray\")\n",
    "#     np.save(f\"data/images/source_{i}.npy\", window)\n",
    "#     window = window.reshape(1,-1)\n",
    "#     window = window - window.min(axis=1)\n",
    "#     window_var = np.cov(window)\n",
    "#     window = window*(window_var**-.5)\n",
    "#     S[i,:] = window\n",
    "\n",
    "# plt.show\n",
    "    \n",
    "# S = np.array(S)\n",
    "\n",
    "# filename = \"data/images/sources.npy\"\n",
    "# np.save(filename, S)"
   ]
  },
  {
   "cell_type": "markdown",
   "metadata": {},
   "source": [
    "Mixtures"
   ]
  },
  {
   "cell_type": "code",
   "execution_count": 8,
   "metadata": {},
   "outputs": [],
   "source": [
    "# A = np.load(f\"data/images/mixing-matrix.npy\")\n",
    "\n",
    "# X = A@S\n",
    "\n",
    "# plt.figure(figsize=(15,10))\n",
    "\n",
    "# for i in range(x_dim):\n",
    "#     mixed = X[i].reshape(252,252)\n",
    "#     plt.subplot(1, x_dim, i+1)\n",
    "#     plt.imshow(mixed, cmap=\"gray\")\n",
    "#     np.save(f\"data/images/mixture_{i}.npy\", X[i])\n",
    "\n",
    "# plt.show()\n",
    "\n",
    "# filename = \"data/images/mixtures.npy\"\n",
    "# np.save(filename, X)"
   ]
  },
  {
   "cell_type": "markdown",
   "metadata": {},
   "source": [
    "# Load data"
   ]
  },
  {
   "cell_type": "code",
   "execution_count": 9,
   "metadata": {},
   "outputs": [],
   "source": [
    "if image_data=='true':\n",
    "    A = np.load(f\"data/images/mixing-matrix.npy\")\n",
    "    S = np.load(f\"data/images/sources.npy\")\n",
    "    X = np.load(f\"data/images/mixtures.npy\")\n",
    "else:\n",
    "    A = np.load(f\"data/{s_dim}-dim-source/mixing-matrix.npy\")\n",
    "    S = np.load(f\"data/{s_dim}-dim-source/sources.npy\")\n",
    "    X = np.load(f\"data/{s_dim}-dim-source/mixtures.npy\")"
   ]
  },
  {
   "cell_type": "code",
   "execution_count": 10,
   "metadata": {},
   "outputs": [],
   "source": [
    "samples = S.shape[1]; iters = epochs*samples"
   ]
  },
  {
   "cell_type": "markdown",
   "metadata": {},
   "source": [
    "# Bio-NICA"
   ]
  },
  {
   "cell_type": "markdown",
   "metadata": {},
   "source": [
    "### Parameters"
   ]
  },
  {
   "cell_type": "code",
   "execution_count": 11,
   "metadata": {},
   "outputs": [],
   "source": [
    "a = 10; b = .1; tau = .8 # optimal parameters for 3-dimensional synthetic data\n",
    "# a = 1000; b = .1; tau = .03 # optimal parameters for 10-dimensional synthetic data \n",
    "# a = 1000; b = .001; tau = .05 # optimal parameters for image data"
   ]
  },
  {
   "cell_type": "markdown",
   "metadata": {},
   "source": [
    "### Online algorithm"
   ]
  },
  {
   "cell_type": "code",
   "execution_count": 12,
   "metadata": {},
   "outputs": [
    {
     "name": "stdout",
     "output_type": "stream",
     "text": [
      "Trial 1:\n",
      "Epoch 1:\n",
      "run time: 9.466198921203613 seconds\n"
     ]
    },
    {
     "data": {
      "image/png": "[encoded data removed]",
      "text/plain": [
       "<Figure size 360x360 with 2 Axes>"
      ]
     },
     "metadata": {
      "needs_background": "light"
     },
     "output_type": "display_data"
    }
   ],
   "source": [
    "error = np.zeros((trials,iters))\n",
    "runtime = np.zeros((trials,iters))\n",
    "\n",
    "S_permuted = np.zeros((trials,s_dim,iters)) # matrix for keeping track of the order the sources were presented across trials\n",
    "Y = np.zeros((trials,y_dim,iters)) # matrix for keeping track of the outputs across trials\n",
    "\n",
    "for n in range(trials):\n",
    "\n",
    "    print('Trial {}:'.format(n+1))\n",
    "\n",
    "    # initialize a random matrix W whose rows have norm 1:\n",
    "\n",
    "    W = np.random.randn(y_dim,x_dim)\n",
    "    for i in range(y_dim):\n",
    "        W[i,:] = W[i,:]/norm(W[i,:])\n",
    "\n",
    "    # initialize M to be the identity matrix, choosing M to be a random postive definite matrix can lead to problems with degeneracy:\n",
    "\n",
    "    M = np.eye(y_dim)\n",
    "\n",
    "    # inialize running means:\n",
    "\n",
    "    x_bar = 0\n",
    "    c_bar = 0\n",
    "\n",
    "    start_time = time.time()\n",
    "\n",
    "    for m in range(epochs):\n",
    "\n",
    "        print('Epoch {}:'.format(m+1))\n",
    "\n",
    "        S_recovered = np.zeros((y_dim,samples)) # matrix for keeping track of outputs over the current epoch\n",
    "\n",
    "        idx = np.random.permutation(samples) # random permutation of the samples\n",
    "\n",
    "        for k in range(samples):\n",
    "\n",
    "            # compute iteration number:\n",
    "\n",
    "            t = m*samples + k\n",
    "\n",
    "            # compute step size:\n",
    "\n",
    "            eta_t = 1/(a+b*t)\n",
    "\n",
    "            # input\n",
    "\n",
    "            i = idx[k]\n",
    "\n",
    "            S_permuted[n,:,t] = S[:,i]\n",
    "\n",
    "            x = X[:,i]\n",
    "            x_bar = x_bar + (x - x_bar)/(t+1) # running average of x \n",
    "            x_hat = x - x_bar # centered x\n",
    "\n",
    "            c = W@x\n",
    "            c_bar = c_bar + (c - c_bar)/100 # running weighted average of c\n",
    "            c_hat = c - c_bar # centered c\n",
    "\n",
    "            # neural dynamics\n",
    "\n",
    "            y = solve_qp(M, c, np.eye(y_dim), np.zeros(y_dim))[0]\n",
    "            Y[n,:,t] = y; S_recovered[:,i] = y\n",
    "\n",
    "            # synaptic updates\n",
    "\n",
    "            W = W + 2*eta_t*(np.outer(y,x) - np.outer(c_hat,x_hat))\n",
    "            M = M + (eta_t/tau)*(np.outer(y,y) - M)\n",
    "            \n",
    "            # the matrix M can sometimes exhibit instaiblities due to noise, which can be addressed with the following ad hoc fix (the alternative is to reduce the learning rate):\n",
    "            \n",
    "            if scipy.linalg.det(M)<.001:\n",
    "                M = M + .1*np.eye(y_dim)\n",
    "                print('M close to degenerate')\n",
    "\n",
    "            # check to see if any neurons (i.e. components of y) are not firing after the first 10 samples\n",
    "\n",
    "            if t==10:\n",
    "                for j in range(y_dim):\n",
    "                    if sum(Y[n,0:t,j])==0:\n",
    "                        W[j,:] = -W[j,:]\n",
    "                        print('flip',j)\n",
    "\n",
    "            runtime[n,t] = time.time() - start_time\n",
    "\n",
    "        # output\n",
    "\n",
    "        print('run time: %s seconds' % runtime[n,t])\n",
    "\n",
    "        # correlations between the outputs and sources; if the algorithm is performing well, this matrix should be close to a permutation matrix\n",
    "\n",
    "        corr = np.corrcoef(S,S_recovered)[:s_dim,s_dim:]\n",
    "\n",
    "        fig=plt.figure(figsize=(5,5))\n",
    "\n",
    "        plt.imshow(corr)\n",
    "        plt.title('Source-output correlation matrix')\n",
    "        plt.colorbar()\n",
    "        plt.show()\n",
    "\n",
    "    # compute the optimal permutation matrix\n",
    "\n",
    "    perm = np.round(np.corrcoef(S,S_recovered))[:s_dim,s_dim:] # if the algorithm performs well, rounding the correlation matrix yields the optimal permutation matrix\n",
    "\n",
    "    # compute error\n",
    "\n",
    "    for t in range(1,iters):\n",
    "\n",
    "        error_t = (norm(S_permuted[n,:,t] - perm@Y[n,:,t])**2)/s_dim\n",
    "        error[n,t] = error[n,t-1] + (error_t - error[n,t-1])/t\n",
    "\n",
    "# save data\n",
    "\n",
    "if image_data=='true':\n",
    "    np.save(f\"data/images_bio-nica_error.npy\", error)\n",
    "    np.save(f\"data/images_bio-nica_runtime.npy\", runtime)\n",
    "else:\n",
    "    np.save(f\"data/{s_dim}-dim-source_bio-nica_error.npy\", error)\n",
    "    np.save(f\"data/{s_dim}-dim-source_bio-nica_runtime.npy\", runtime)"
   ]
  },
  {
   "cell_type": "markdown",
   "metadata": {},
   "source": [
    "# 2-layer NSM"
   ]
  },
  {
   "cell_type": "markdown",
   "metadata": {},
   "source": [
    "### Parameters"
   ]
  },
  {
   "cell_type": "code",
   "execution_count": 13,
   "metadata": {},
   "outputs": [],
   "source": [
    "a = 100; b = .001 # optimal parameters for 3-dimensional synthetic data\n",
    "# a = 100; b = .001 # optimal parameters for 10-dimensional synthetic data \n",
    "# a = 100; b = .01 # optimal parameters for image data"
   ]
  },
  {
   "cell_type": "markdown",
   "metadata": {},
   "source": [
    "### Online algorithm"
   ]
  },
  {
   "cell_type": "code",
   "execution_count": 14,
   "metadata": {},
   "outputs": [
    {
     "name": "stdout",
     "output_type": "stream",
     "text": [
      "Trial 1:\n",
      "Epoch 1:\n",
      "run time: 9.400677680969238 seconds\n"
     ]
    },
    {
     "data": {
      "image/png": "[encoded data removed]",
      "text/plain": [
       "<Figure size 360x360 with 2 Axes>"
      ]
     },
     "metadata": {
      "needs_background": "light"
     },
     "output_type": "display_data"
    }
   ],
   "source": [
    "error = np.zeros((trials,iters))\n",
    "runtime = np.zeros((trials,iters))\n",
    "\n",
    "S_permuted = np.zeros((trials,s_dim,iters))\n",
    "Y = np.zeros((trials,y_dim,iters))\n",
    "\n",
    "h_dim = y_dim\n",
    "\n",
    "for n in range(trials):\n",
    "\n",
    "    print('Trial {}:'.format(n+1))\n",
    "\n",
    "    Whx = np.random.randn(h_dim,x_dim)\n",
    "    Wgh = np.eye(h_dim)\n",
    "    Wyh = np.random.randn(y_dim,h_dim)\n",
    "    Wyy = np.eye(y_dim)\n",
    "\n",
    "    for i in range(h_dim):\n",
    "        Whx[i,:] = Whx[i,:]/norm(Whx[i,:])\n",
    "        Wyh[i,:] = Wyh[i,:]/norm(Wyh[i,:])\n",
    "\n",
    "    x_bar = 0\n",
    "    h_bar = 0\n",
    "    g_bar = 0\n",
    "\n",
    "    start_time = time.time()\n",
    "\n",
    "    for m in range(epochs):\n",
    "\n",
    "        print('Epoch {}:'.format(m+1))\n",
    "\n",
    "        S_recovered = np.zeros((y_dim,samples))\n",
    "\n",
    "        idx = np.random.permutation(samples) # random permutation of the samples\n",
    "\n",
    "        for k in range(samples):\n",
    "\n",
    "            t = m*samples + k\n",
    "\n",
    "            eta_t = 1/(100+t)\n",
    "            gamma_t = 1/(a+b*t)\n",
    "\n",
    "            # input\n",
    "\n",
    "            i = idx[k]\n",
    "\n",
    "            S_permuted[n,:,t] = S[:,i]\n",
    "\n",
    "            x = X[:,i]\n",
    "            x_bar = x_bar + (x - x_bar)/(t+1)\n",
    "            x_hat = x - x_bar\n",
    "\n",
    "            # neural dynamics\n",
    "\n",
    "            h = inv(Wgh.T@Wgh)@Whx@x\n",
    "            h_bar = h_bar + (h - h_bar)/(t+1)\n",
    "            h_hat = h - h_bar\n",
    "\n",
    "            g = Wgh@h\n",
    "            g_bar = g_bar + (g - g_bar)/(t+1)\n",
    "            g_hat = g - g_bar\n",
    "\n",
    "            c = Wyh@h\n",
    "            y = solve_qp(Wyy, c, np.eye(y_dim), np.zeros(y_dim))[0]\n",
    "            Y[n,:,t] = y; S_recovered[:,i] = y\n",
    "\n",
    "            # synaptic updates\n",
    "\n",
    "            Whx = Whx + eta_t*(np.outer(h_hat,x_hat) - Whx)\n",
    "            Wgh = Wgh + eta_t*(np.outer(g_hat,h_hat) - Wgh)\n",
    "            Wyh = Wyh + gamma_t*(np.outer(y,h) - Wyh)\n",
    "            Wyy = Wyy + gamma_t*(np.outer(y,y) - Wyy)\n",
    "\n",
    "            # check to see if any neurons (i.e. components of y) are not firing\n",
    "\n",
    "            if t==10:        \n",
    "                for j in range(y_dim):\n",
    "                    if sum(Y[n,0:t,j])==0:\n",
    "                        Wyh[j,:] = -Wyh[j,:]\n",
    "\n",
    "            runtime[n,t] = time.time() - start_time\n",
    "\n",
    "        # output\n",
    "\n",
    "        print('run time: %s seconds' % runtime[n,t])\n",
    "\n",
    "        # correlations between the outputs and sources; if the algorithm is performing well, this matrix should be close to a permutation matrix\n",
    "\n",
    "        corr = np.corrcoef(S,S_recovered)[:s_dim,s_dim:]\n",
    "\n",
    "        fig=plt.figure(figsize=(5,5))\n",
    "\n",
    "        plt.imshow(corr)\n",
    "        plt.title('Source-output correlation matrix')\n",
    "        plt.colorbar()\n",
    "        plt.show()\n",
    "\n",
    "    perm = np.round(np.corrcoef(S,S_recovered)[:s_dim,s_dim:])\n",
    "\n",
    "    for t in range(1,iters):\n",
    "\n",
    "        error_t = (norm(S_permuted[n,:,t] - perm@Y[n,:,t])**2)/s_dim\n",
    "        error[n,t] = error[n,t-1] + (error_t - error[n,t-1])/t\n",
    "\n",
    "# save data\n",
    "\n",
    "if image_data=='true':\n",
    "    np.save(f\"data/images_nsm_error.npy\", error)\n",
    "    np.save(f\"data/images_nsm_runtime.npy\", runtime)\n",
    "else:\n",
    "    np.save(f\"data/{s_dim}-dim-source_nsm_error.npy\", error)\n",
    "    np.save(f\"data/{s_dim}-dim-source_nsm_runtime.npy\", runtime)"
   ]
  },
  {
   "cell_type": "markdown",
   "metadata": {},
   "source": [
    "# Nonnegative PCA"
   ]
  },
  {
   "cell_type": "markdown",
   "metadata": {},
   "source": [
    "### Parameters"
   ]
  },
  {
   "cell_type": "code",
   "execution_count": 15,
   "metadata": {},
   "outputs": [],
   "source": [
    "a = 1000; b = .01 # optimal parameters for 3-dimensional synthetic data\n",
    "# a = 1000; b = .01 # optimal parameters for 10-dimensional synthetic data \n",
    "# a = 1000; b = .01 # optimal parameters for image data"
   ]
  },
  {
   "cell_type": "markdown",
   "metadata": {},
   "source": [
    "### Non-centered whitening"
   ]
  },
  {
   "cell_type": "code",
   "execution_count": 16,
   "metadata": {},
   "outputs": [],
   "source": [
    "Cxx = np.cov(X)\n",
    "H = inv(sqrtm(Cxx))@X # whitened mixtures\n",
    "# R = inv(sqrtm(A@A.T))@A # whitening matrix\n",
    "# H = R@S "
   ]
  },
  {
   "cell_type": "markdown",
   "metadata": {},
   "source": [
    "### Online algorithm"
   ]
  },
  {
   "cell_type": "code",
   "execution_count": 17,
   "metadata": {},
   "outputs": [
    {
     "name": "stdout",
     "output_type": "stream",
     "text": [
      "Trial 1:\n",
      "Epoch 1:\n",
      "flip 0\n",
      "run time: 1.6990888118743896 seconds\n"
     ]
    },
    {
     "data": {
      "image/png": "[encoded data removed]",
      "text/plain": [
       "<Figure size 360x360 with 2 Axes>"
      ]
     },
     "metadata": {
      "needs_background": "light"
     },
     "output_type": "display_data"
    }
   ],
   "source": [
    "error = np.zeros((trials,iters))\n",
    "runtime = np.zeros((trials,iters))\n",
    "\n",
    "S_permuted = np.zeros((trials,s_dim,iters))\n",
    "Y = np.zeros((trials,y_dim,iters))\n",
    "\n",
    "for n in range(trials):\n",
    "\n",
    "    print('Trial {}:'.format(n+1))\n",
    "\n",
    "    W = np.random.randn(y_dim,x_dim)\n",
    "\n",
    "    for i in range(y_dim):\n",
    "        W[i,:] = W[i,:]/norm(W[i,:])\n",
    "\n",
    "    start_time = time.time()\n",
    "\n",
    "    for m in range(epochs):\n",
    "\n",
    "        print('Epoch {}:'.format(m+1))\n",
    "\n",
    "        S_recovered = np.zeros((y_dim,samples))\n",
    "\n",
    "        idx = np.random.permutation(samples) # random permutation of the samples\n",
    "\n",
    "        for k in range(samples):\n",
    "\n",
    "            t = m*samples + k\n",
    "\n",
    "            eta_t = 1/(a+b*t)\n",
    "\n",
    "            i = idx[k]\n",
    "\n",
    "            S_permuted[n,:,t] = S[:,i]\n",
    "\n",
    "            # input\n",
    "\n",
    "            h = H[:,i]\n",
    "\n",
    "            y = np.maximum(W@h,0); Y[n,:,t] = y; S_recovered[:,i] = y\n",
    "\n",
    "            # synaptic updates\n",
    "\n",
    "            W = W + eta_t*(np.outer(y,h)-np.outer(y,y)@W)\n",
    "\n",
    "            # check to see if any neurons (i.e. components of y) are not firing\n",
    "\n",
    "            if t==10:        \n",
    "                for j in range(y_dim):\n",
    "                    if sum(Y[n,j,0:t])==0:\n",
    "                        W[j,:] = -W[j,:]\n",
    "                        print('flip',j)\n",
    "\n",
    "            runtime[n,t] = time.time() - start_time\n",
    "\n",
    "        # output\n",
    "\n",
    "        print('run time: %s seconds' % runtime[n,t])\n",
    "\n",
    "        # correlations between the outputs and sources; if the algorithm is performing well, this matrix should be close to a permutation matrix\n",
    "\n",
    "        corr = np.corrcoef(S,S_recovered)[:s_dim,s_dim:]\n",
    "\n",
    "        fig=plt.figure(figsize=(5,5))\n",
    "\n",
    "        plt.imshow(corr)\n",
    "        plt.title('Source-output correlation matrix')\n",
    "        plt.colorbar()\n",
    "        plt.show()\n",
    "\n",
    "    perm = np.round(np.corrcoef(S,S_recovered)[:s_dim,s_dim:])\n",
    "\n",
    "    for t in range(1,iters):\n",
    "\n",
    "        error_t = (norm(S_permuted[n,:,t] - perm@Y[n,:,t])**2)/s_dim\n",
    "        error[n,t] = error[n,t-1] + (error_t - error[n,t-1])/t\n",
    "\n",
    "# save data\n",
    "\n",
    "if image_data=='true':\n",
    "    np.save(f\"data/images_npca_error.npy\", error)\n",
    "    np.save(f\"data/images_npca_runtime.npy\", runtime)\n",
    "else:\n",
    "    np.save(f\"data/{s_dim}-dim-source_npca_error.npy\", error)\n",
    "    np.save(f\"data/{s_dim}-dim-source_npca_runtime.npy\", runtime)"
   ]
  },
  {
   "cell_type": "markdown",
   "metadata": {},
   "source": [
    "# fastICA"
   ]
  },
  {
   "cell_type": "markdown",
   "metadata": {},
   "source": [
    "### Parameters"
   ]
  },
  {
   "cell_type": "code",
   "execution_count": 18,
   "metadata": {},
   "outputs": [],
   "source": [
    "a = 10; b = .001 # optimal parameters for 3-dimensional synthetic data\n",
    "# a = 1000; b = .01 # optimal parameters for 10-dimensional synthetic data \n",
    "# a = 100; b = .01 # optimal parameters for image data\n",
    "\n",
    "alpha = .5"
   ]
  },
  {
   "cell_type": "markdown",
   "metadata": {},
   "source": [
    "### Nonlinearity"
   ]
  },
  {
   "cell_type": "code",
   "execution_count": 19,
   "metadata": {},
   "outputs": [],
   "source": [
    "def f(y):\n",
    "    return np.tanh(y)\n",
    "\n",
    "def f_prime(y):\n",
    "    return (1 - np.tanh(y)**2)"
   ]
  },
  {
   "cell_type": "markdown",
   "metadata": {},
   "source": [
    "### Whitening"
   ]
  },
  {
   "cell_type": "code",
   "execution_count": 20,
   "metadata": {},
   "outputs": [],
   "source": [
    "Cxx = np.cov(X)\n",
    "X_mean = np.mean(X,axis=1)\n",
    "H_centered = inv(sqrtm(Cxx))@(X - np.outer(X_mean,np.ones(X.shape[1]).T))\n",
    "\n",
    "# R = inv(sqrtm(A@A.T))@A # whitening matrix\n",
    "# H = R@S # whitened mixtures\n",
    "# H_mean = H.mean(axis=1)\n",
    "# H_centered = H - np.outer(H_mean,np.ones(samples)) # whitened/centered mixtures"
   ]
  },
  {
   "cell_type": "markdown",
   "metadata": {},
   "source": [
    "### Signal mean"
   ]
  },
  {
   "cell_type": "code",
   "execution_count": 21,
   "metadata": {},
   "outputs": [],
   "source": [
    "S_mean = S.mean(axis=1)"
   ]
  },
  {
   "cell_type": "markdown",
   "metadata": {},
   "source": [
    "### Online algorithm"
   ]
  },
  {
   "cell_type": "code",
   "execution_count": 26,
   "metadata": {},
   "outputs": [
    {
     "name": "stdout",
     "output_type": "stream",
     "text": [
      "Trial 1:\n",
      "Epoch 1:\n",
      "run time: 3.920363187789917 seconds\n"
     ]
    },
    {
     "data": {
      "image/png": "[encoded data removed]",
      "text/plain": [
       "<Figure size 360x360 with 2 Axes>"
      ]
     },
     "metadata": {
      "needs_background": "light"
     },
     "output_type": "display_data"
    }
   ],
   "source": [
    "error = np.zeros((trials,iters))\n",
    "runtime = np.zeros((trials,iters))\n",
    "\n",
    "S_permuted = np.zeros((trials,s_dim,iters)) # matrix keeping track of the source presented in trial n, iteration t\n",
    "Y = np.zeros((trials,y_dim,iters)) # matrix keeping track of output of trial n, iteration t\n",
    "\n",
    "for n in range(trials):\n",
    "\n",
    "    print('Trial {}:'.format(n+1))\n",
    "\n",
    "    W = np.random.randn(y_dim,x_dim)\n",
    "\n",
    "    for i in range(y_dim):\n",
    "        W[i,:] = W[i,:]/norm(W[i,:])\n",
    "\n",
    "    C = np.ones(y_dim)\n",
    "\n",
    "    start_time = time.time()\n",
    "\n",
    "    for m in range(epochs):\n",
    "\n",
    "        print('Epoch {}:'.format(m+1))\n",
    "\n",
    "        S_recovered = np.zeros((y_dim,samples))\n",
    "\n",
    "        idx = np.random.permutation(samples) # random permutation of the samples\n",
    "\n",
    "        for k in range(samples):\n",
    "\n",
    "            t = m*samples + k\n",
    "\n",
    "            eta_t = 1/(a+b*t)\n",
    "\n",
    "            i = idx[k]\n",
    "\n",
    "            S_permuted[n,:,t] = S[:,i] - S_mean # center the sources for comparison with the outputs\n",
    "\n",
    "            # input\n",
    "\n",
    "            h = H_centered[:,i]\n",
    "\n",
    "            # neural dynamics\n",
    "\n",
    "            y = W@h; Y[n,:,t] = y; S_recovered[:,i] = y\n",
    "\n",
    "            for j in range(y_dim):\n",
    "                C[j] = C[j] + .1*(y[j]*f(y[j]) - f_prime(y[j]) - C[j])\n",
    "\n",
    "            sign_C = np.sign(C)\n",
    "            diag_C = np.diag(sign_C)\n",
    "\n",
    "#             W = W + eta_t*diag_C@np.outer(f(y),x) + alpha*(np.eye(y_dim) - W@(W.T))@W\n",
    "            W = W + eta_t*np.outer(f(y),x) + alpha*(np.eye(y_dim) - W@(W.T))@W\n",
    "\n",
    "            runtime[n,t] = time.time() - start_time\n",
    "\n",
    "        # output\n",
    "\n",
    "        print('run time: %s seconds' % runtime[n,t])\n",
    "\n",
    "        # correlations between the outputs and sources; if the algorithm is performing well, this matrix should be close to a permutation matrix\n",
    "\n",
    "        corr = np.corrcoef(S,S_recovered)[:s_dim,s_dim:]\n",
    "\n",
    "        fig=plt.figure(figsize=(5,5))\n",
    "\n",
    "        plt.imshow(corr)\n",
    "        plt.title('Source-output correlation matrix')\n",
    "        plt.colorbar()\n",
    "        plt.show()\n",
    "\n",
    "    perm = np.round(np.corrcoef(S,S_recovered)[:s_dim,s_dim:])\n",
    "\n",
    "    for t in range(1,iters):\n",
    "\n",
    "        error_t = (norm(S_permuted[n,:,t] - perm@Y[n,:,t])**2)/s_dim\n",
    "        error[n,t] = error[n,t-1] + (error_t - error[n,t-1])/t\n",
    "\n",
    "# save data\n",
    "\n",
    "if image_data=='true':\n",
    "    np.save(f\"data/images_fica_error.npy\", error)\n",
    "    np.save(f\"data/images_fica_runtime.npy\", runtime)\n",
    "else:\n",
    "    np.save(f\"data/{s_dim}-dim-source_fica_error.npy\", error)\n",
    "    np.save(f\"data/{s_dim}-dim-source_fica_runtime.npy\", runtime)"
   ]
  },
  {
   "cell_type": "markdown",
   "metadata": {},
   "source": [
    "# Comparisons"
   ]
  },
  {
   "cell_type": "markdown",
   "metadata": {},
   "source": [
    "### Function for plotting confidence intervals"
   ]
  },
  {
   "cell_type": "code",
   "execution_count": 27,
   "metadata": {},
   "outputs": [],
   "source": [
    "def add_ci_line(axis, t, data, ci_pct=68, plot_kwargs=None, ci_kwargs=None):\n",
    "    mu = data.mean(axis=0)\n",
    "    delta = (100 - ci_pct) / 2\n",
    "    ci_lo = np.percentile(data, delta, axis=0)\n",
    "    ci_hi = np.percentile(data, 100 - delta, axis=0)\n",
    "    assert mu.shape == ci_lo.shape == ci_hi.shape\n",
    "    plot_kwargs = plot_kwargs or {}\n",
    "    ci_kwargs = ci_kwargs or {}\n",
    "    plot = axis.plot(t, mu, **plot_kwargs)\n",
    "    fill = axis.fill_between(t, ci_lo, ci_hi, alpha=.05, **ci_kwargs)\n",
    "    return plot, fill"
   ]
  },
  {
   "cell_type": "markdown",
   "metadata": {},
   "source": [
    "### Parameters"
   ]
  },
  {
   "cell_type": "code",
   "execution_count": 28,
   "metadata": {},
   "outputs": [],
   "source": [
    "s_dim = 3; image_data = 'false'"
   ]
  },
  {
   "cell_type": "markdown",
   "metadata": {},
   "source": [
    "### Load data"
   ]
  },
  {
   "cell_type": "code",
   "execution_count": 29,
   "metadata": {},
   "outputs": [],
   "source": [
    "if image_data=='true':\n",
    "    bio_nica_error = np.load(f\"data/images_bio-nica_error.npy\")\n",
    "    nsm_error = np.load(f\"data/images_nsm_error.npy\")\n",
    "    npca_error = np.load(f\"data/images_npca_error.npy\")\n",
    "    fica_error = np.load(f\"data/images_fica_error.npy\")\n",
    "else:\n",
    "    bio_nica_error = np.load(f\"data/{s_dim}-dim-source_bio-nica_error.npy\")\n",
    "    nsm_error = np.load(f\"data/{s_dim}-dim-source_nsm_error.npy\")\n",
    "    npca_error = np.load(f\"data/{s_dim}-dim-source_npca_error.npy\")\n",
    "    fica_error = np.load(f\"data/{s_dim}-dim-source_fica_error.npy\")"
   ]
  },
  {
   "cell_type": "markdown",
   "metadata": {},
   "source": [
    "### Sample efficiency"
   ]
  },
  {
   "cell_type": "code",
   "execution_count": 30,
   "metadata": {},
   "outputs": [
    {
     "data": {
      "image/png": "[encoded data removed]",
      "text/plain": [
       "<Figure size 576x576 with 1 Axes>"
      ]
     },
     "metadata": {
      "needs_background": "light"
     },
     "output_type": "display_data"
    }
   ],
   "source": [
    "fig = plt.figure(figsize=(8,8))\n",
    "\n",
    "linewidth = 3\n",
    "\n",
    "t = list(range(iters))\n",
    "ci = 90\n",
    "\n",
    "ax = plt.subplot(1, 1, 1)\n",
    "add_ci_line(\n",
    "    ax,\n",
    "    t,\n",
    "    bio_nica_error,\n",
    "    ci_pct = ci,\n",
    "    plot_kwargs={\"ls\": \"-\", \"lw\": linewidth, \"label\": \"Bio-NICA\"},\n",
    ")\n",
    "add_ci_line(\n",
    "    ax,\n",
    "    t,\n",
    "    nsm_error,\n",
    "    ci_pct = ci,\n",
    "    plot_kwargs={\"ls\": \"--\", \"lw\": linewidth, \"label\": \"2-layer NSM\"},\n",
    ")\n",
    "add_ci_line(\n",
    "    ax,\n",
    "    t,\n",
    "    npca_error,\n",
    "    ci_pct = ci,\n",
    "    plot_kwargs={\"ls\": \":\", \"lw\": linewidth, \"label\": \"Nonnegative PCA (pre-whitened inputs)\"},\n",
    ")\n",
    "add_ci_line(\n",
    "    ax,\n",
    "    t,\n",
    "    fica_error,\n",
    "    ci_pct = ci,\n",
    "    plot_kwargs={\"ls\": \"-.\", \"lw\": linewidth, \"label\": \"fastICA (pre-whitened inputs)\"},\n",
    ")\n",
    "ax.loglog()\n",
    "\n",
    "if image_data=='true':\n",
    "    plt.title(f\"Natural images source data\")\n",
    "else:\n",
    "    plt.title(f\"{s_dim}-dimensional source data\")\n",
    "\n",
    "plt.xlabel(\"Sample #\")\n",
    "plt.ylabel(\"Error\")\n",
    "plt.xlim((1,10**6))\n",
    "plt.grid()\n",
    "plt.legend(loc = \"lower left\")\n",
    "\n",
    "if image_data=='true':\n",
    "    plt.savefig(f\"data/images-source_comparison.png\", dpi=300, transparent='true', bbox_inches='tight')\n",
    "else:\n",
    "    plt.savefig(f\"data/{s_dim}-dim-source_comparison.png\", dpi=300, transparent='true', bbox_inches='tight')"
   ]
  },
  {
   "cell_type": "code",
   "execution_count": null,
   "metadata": {},
   "outputs": [],
   "source": []
  }
 ],
 "metadata": {
  "kernelspec": {
   "display_name": "Python 3",
   "language": "python",
   "name": "python3"
  },
  "language_info": {
   "codemirror_mode": {
    "name": "ipython",
    "version": 3
   },
   "file_extension": ".py",
   "mimetype": "text/x-python",
   "name": "python",
   "nbconvert_exporter": "python",
   "pygments_lexer": "ipython3",
   "version": "3.7.6"
  }
 },
 "nbformat": 4,
 "nbformat_minor": 4
}
